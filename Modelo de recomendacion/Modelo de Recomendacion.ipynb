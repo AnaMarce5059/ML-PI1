{
 "cells": [
  {
   "cell_type": "code",
   "execution_count": 1,
   "metadata": {},
   "outputs": [],
   "source": [
    "import pandas as pd\n",
    "import nltk\n",
    "from nltk.corpus import stopwords\n",
    "import string\n",
    "from collections import Counter\n",
    "from sklearn.metrics.pairwise import cosine_similarity\n",
    "from sklearn.feature_extraction.text import CountVectorizer"
   ]
  },
  {
   "cell_type": "code",
   "execution_count": 2,
   "metadata": {},
   "outputs": [],
   "source": [
    "# Definir las rutas de los archivos correctamente como cadenas de texto\n",
    "ruta_movies_dataset = r\"C:\\Users\\claud\\OneDrive\\Escritorio\\Henry 1erPI-ML\\ETL\\movies_cleaned.parquet\"\n",
    "credit_crew_dataset = r\"C:\\Users\\claud\\OneDrive\\Escritorio\\Henry 1erPI-ML\\ETL\\credit_crew_cleaned.parquet\"\n",
    "credit_cast_dataset = r\"C:\\Users\\claud\\OneDrive\\Escritorio\\Henry 1erPI-ML\\ETL\\credit_cast_cleaned.parquet\"\n",
    "\n",
    "# Leer los archivos parquet\n",
    "df_movies = pd.read_parquet(ruta_movies_dataset)\n",
    "df_credit_crew = pd.read_parquet(credit_crew_dataset)\n",
    "df_credit_cast = pd.read_parquet(credit_cast_dataset)\n"
   ]
  },
  {
   "cell_type": "code",
   "execution_count": 3,
   "metadata": {},
   "outputs": [
    {
     "data": {
      "text/html": [
       "<div>\n",
       "<style scoped>\n",
       "    .dataframe tbody tr th:only-of-type {\n",
       "        vertical-align: middle;\n",
       "    }\n",
       "\n",
       "    .dataframe tbody tr th {\n",
       "        vertical-align: top;\n",
       "    }\n",
       "\n",
       "    .dataframe thead th {\n",
       "        text-align: right;\n",
       "    }\n",
       "</style>\n",
       "<table border=\"1\" class=\"dataframe\">\n",
       "  <thead>\n",
       "    <tr style=\"text-align: right;\">\n",
       "      <th></th>\n",
       "      <th>budget</th>\n",
       "      <th>id</th>\n",
       "      <th>overview</th>\n",
       "      <th>popularity</th>\n",
       "      <th>release_date</th>\n",
       "      <th>revenue</th>\n",
       "      <th>runtime</th>\n",
       "      <th>title</th>\n",
       "      <th>vote_average</th>\n",
       "      <th>vote_count</th>\n",
       "      <th>release_year</th>\n",
       "      <th>return</th>\n",
       "      <th>genres_name</th>\n",
       "      <th>production_companies_name</th>\n",
       "      <th>production_countries_name</th>\n",
       "      <th>spoken_languages_name</th>\n",
       "    </tr>\n",
       "  </thead>\n",
       "  <tbody>\n",
       "    <tr>\n",
       "      <th>0</th>\n",
       "      <td>30000000</td>\n",
       "      <td>862</td>\n",
       "      <td>Led by Woody, Andy's toys live happily in his ...</td>\n",
       "      <td>21.946943</td>\n",
       "      <td>1995-10-30</td>\n",
       "      <td>373554033</td>\n",
       "      <td>81.0</td>\n",
       "      <td>Toy Story</td>\n",
       "      <td>7.7</td>\n",
       "      <td>5415</td>\n",
       "      <td>1995</td>\n",
       "      <td>12.451801</td>\n",
       "      <td>Animation</td>\n",
       "      <td>Pixar Animation Studios</td>\n",
       "      <td>United States of America</td>\n",
       "      <td>English</td>\n",
       "    </tr>\n",
       "    <tr>\n",
       "      <th>1</th>\n",
       "      <td>30000000</td>\n",
       "      <td>862</td>\n",
       "      <td>Led by Woody, Andy's toys live happily in his ...</td>\n",
       "      <td>21.946943</td>\n",
       "      <td>1995-10-30</td>\n",
       "      <td>373554033</td>\n",
       "      <td>81.0</td>\n",
       "      <td>Toy Story</td>\n",
       "      <td>7.7</td>\n",
       "      <td>5415</td>\n",
       "      <td>1995</td>\n",
       "      <td>12.451801</td>\n",
       "      <td>Comedy</td>\n",
       "      <td>Pixar Animation Studios</td>\n",
       "      <td>United States of America</td>\n",
       "      <td>English</td>\n",
       "    </tr>\n",
       "    <tr>\n",
       "      <th>2</th>\n",
       "      <td>30000000</td>\n",
       "      <td>862</td>\n",
       "      <td>Led by Woody, Andy's toys live happily in his ...</td>\n",
       "      <td>21.946943</td>\n",
       "      <td>1995-10-30</td>\n",
       "      <td>373554033</td>\n",
       "      <td>81.0</td>\n",
       "      <td>Toy Story</td>\n",
       "      <td>7.7</td>\n",
       "      <td>5415</td>\n",
       "      <td>1995</td>\n",
       "      <td>12.451801</td>\n",
       "      <td>Family</td>\n",
       "      <td>Pixar Animation Studios</td>\n",
       "      <td>United States of America</td>\n",
       "      <td>English</td>\n",
       "    </tr>\n",
       "    <tr>\n",
       "      <th>3</th>\n",
       "      <td>65000000</td>\n",
       "      <td>8844</td>\n",
       "      <td>When siblings Judy and Peter discover an encha...</td>\n",
       "      <td>17.015539</td>\n",
       "      <td>1995-12-15</td>\n",
       "      <td>262797249</td>\n",
       "      <td>104.0</td>\n",
       "      <td>Jumanji</td>\n",
       "      <td>6.9</td>\n",
       "      <td>2413</td>\n",
       "      <td>1995</td>\n",
       "      <td>4.043035</td>\n",
       "      <td>Adventure</td>\n",
       "      <td>TriStar Pictures</td>\n",
       "      <td>United States of America</td>\n",
       "      <td>English</td>\n",
       "    </tr>\n",
       "    <tr>\n",
       "      <th>4</th>\n",
       "      <td>65000000</td>\n",
       "      <td>8844</td>\n",
       "      <td>When siblings Judy and Peter discover an encha...</td>\n",
       "      <td>17.015539</td>\n",
       "      <td>1995-12-15</td>\n",
       "      <td>262797249</td>\n",
       "      <td>104.0</td>\n",
       "      <td>Jumanji</td>\n",
       "      <td>6.9</td>\n",
       "      <td>2413</td>\n",
       "      <td>1995</td>\n",
       "      <td>4.043035</td>\n",
       "      <td>Adventure</td>\n",
       "      <td>TriStar Pictures</td>\n",
       "      <td>United States of America</td>\n",
       "      <td>Français</td>\n",
       "    </tr>\n",
       "    <tr>\n",
       "      <th>...</th>\n",
       "      <td>...</td>\n",
       "      <td>...</td>\n",
       "      <td>...</td>\n",
       "      <td>...</td>\n",
       "      <td>...</td>\n",
       "      <td>...</td>\n",
       "      <td>...</td>\n",
       "      <td>...</td>\n",
       "      <td>...</td>\n",
       "      <td>...</td>\n",
       "      <td>...</td>\n",
       "      <td>...</td>\n",
       "      <td>...</td>\n",
       "      <td>...</td>\n",
       "      <td>...</td>\n",
       "      <td>...</td>\n",
       "    </tr>\n",
       "    <tr>\n",
       "      <th>414481</th>\n",
       "      <td>0</td>\n",
       "      <td>67758</td>\n",
       "      <td>When one of her hits goes wrong, a professiona...</td>\n",
       "      <td>0.903007</td>\n",
       "      <td>2003-08-01</td>\n",
       "      <td>0</td>\n",
       "      <td>90.0</td>\n",
       "      <td>Betrayal</td>\n",
       "      <td>3.8</td>\n",
       "      <td>6</td>\n",
       "      <td>2003</td>\n",
       "      <td>0.000000</td>\n",
       "      <td>Action</td>\n",
       "      <td>American World Pictures</td>\n",
       "      <td>United States of America</td>\n",
       "      <td>English</td>\n",
       "    </tr>\n",
       "    <tr>\n",
       "      <th>414482</th>\n",
       "      <td>0</td>\n",
       "      <td>67758</td>\n",
       "      <td>When one of her hits goes wrong, a professiona...</td>\n",
       "      <td>0.903007</td>\n",
       "      <td>2003-08-01</td>\n",
       "      <td>0</td>\n",
       "      <td>90.0</td>\n",
       "      <td>Betrayal</td>\n",
       "      <td>3.8</td>\n",
       "      <td>6</td>\n",
       "      <td>2003</td>\n",
       "      <td>0.000000</td>\n",
       "      <td>Drama</td>\n",
       "      <td>American World Pictures</td>\n",
       "      <td>United States of America</td>\n",
       "      <td>English</td>\n",
       "    </tr>\n",
       "    <tr>\n",
       "      <th>414483</th>\n",
       "      <td>0</td>\n",
       "      <td>67758</td>\n",
       "      <td>When one of her hits goes wrong, a professiona...</td>\n",
       "      <td>0.903007</td>\n",
       "      <td>2003-08-01</td>\n",
       "      <td>0</td>\n",
       "      <td>90.0</td>\n",
       "      <td>Betrayal</td>\n",
       "      <td>3.8</td>\n",
       "      <td>6</td>\n",
       "      <td>2003</td>\n",
       "      <td>0.000000</td>\n",
       "      <td>Thriller</td>\n",
       "      <td>American World Pictures</td>\n",
       "      <td>United States of America</td>\n",
       "      <td>English</td>\n",
       "    </tr>\n",
       "    <tr>\n",
       "      <th>414484</th>\n",
       "      <td>0</td>\n",
       "      <td>227506</td>\n",
       "      <td>In a small town live two brothers, one a minis...</td>\n",
       "      <td>0.003503</td>\n",
       "      <td>1917-10-21</td>\n",
       "      <td>0</td>\n",
       "      <td>87.0</td>\n",
       "      <td>Satan Triumphant</td>\n",
       "      <td>0.0</td>\n",
       "      <td>0</td>\n",
       "      <td>1917</td>\n",
       "      <td>0.000000</td>\n",
       "      <td>None</td>\n",
       "      <td>Yermoliev</td>\n",
       "      <td>Russia</td>\n",
       "      <td>None</td>\n",
       "    </tr>\n",
       "    <tr>\n",
       "      <th>414485</th>\n",
       "      <td>0</td>\n",
       "      <td>461257</td>\n",
       "      <td>50 years after decriminalisation of homosexual...</td>\n",
       "      <td>0.163015</td>\n",
       "      <td>2017-06-09</td>\n",
       "      <td>0</td>\n",
       "      <td>75.0</td>\n",
       "      <td>Queerama</td>\n",
       "      <td>0.0</td>\n",
       "      <td>0</td>\n",
       "      <td>2017</td>\n",
       "      <td>0.000000</td>\n",
       "      <td>None</td>\n",
       "      <td>None</td>\n",
       "      <td>United Kingdom</td>\n",
       "      <td>English</td>\n",
       "    </tr>\n",
       "  </tbody>\n",
       "</table>\n",
       "<p>414486 rows × 16 columns</p>\n",
       "</div>"
      ],
      "text/plain": [
       "          budget      id                                           overview  \\\n",
       "0       30000000     862  Led by Woody, Andy's toys live happily in his ...   \n",
       "1       30000000     862  Led by Woody, Andy's toys live happily in his ...   \n",
       "2       30000000     862  Led by Woody, Andy's toys live happily in his ...   \n",
       "3       65000000    8844  When siblings Judy and Peter discover an encha...   \n",
       "4       65000000    8844  When siblings Judy and Peter discover an encha...   \n",
       "...          ...     ...                                                ...   \n",
       "414481         0   67758  When one of her hits goes wrong, a professiona...   \n",
       "414482         0   67758  When one of her hits goes wrong, a professiona...   \n",
       "414483         0   67758  When one of her hits goes wrong, a professiona...   \n",
       "414484         0  227506  In a small town live two brothers, one a minis...   \n",
       "414485         0  461257  50 years after decriminalisation of homosexual...   \n",
       "\n",
       "       popularity release_date    revenue  runtime             title  \\\n",
       "0       21.946943   1995-10-30  373554033     81.0         Toy Story   \n",
       "1       21.946943   1995-10-30  373554033     81.0         Toy Story   \n",
       "2       21.946943   1995-10-30  373554033     81.0         Toy Story   \n",
       "3       17.015539   1995-12-15  262797249    104.0           Jumanji   \n",
       "4       17.015539   1995-12-15  262797249    104.0           Jumanji   \n",
       "...           ...          ...        ...      ...               ...   \n",
       "414481   0.903007   2003-08-01          0     90.0          Betrayal   \n",
       "414482   0.903007   2003-08-01          0     90.0          Betrayal   \n",
       "414483   0.903007   2003-08-01          0     90.0          Betrayal   \n",
       "414484   0.003503   1917-10-21          0     87.0  Satan Triumphant   \n",
       "414485   0.163015   2017-06-09          0     75.0          Queerama   \n",
       "\n",
       "        vote_average  vote_count  release_year     return genres_name  \\\n",
       "0                7.7        5415          1995  12.451801   Animation   \n",
       "1                7.7        5415          1995  12.451801      Comedy   \n",
       "2                7.7        5415          1995  12.451801      Family   \n",
       "3                6.9        2413          1995   4.043035   Adventure   \n",
       "4                6.9        2413          1995   4.043035   Adventure   \n",
       "...              ...         ...           ...        ...         ...   \n",
       "414481           3.8           6          2003   0.000000      Action   \n",
       "414482           3.8           6          2003   0.000000       Drama   \n",
       "414483           3.8           6          2003   0.000000    Thriller   \n",
       "414484           0.0           0          1917   0.000000        None   \n",
       "414485           0.0           0          2017   0.000000        None   \n",
       "\n",
       "       production_companies_name production_countries_name  \\\n",
       "0        Pixar Animation Studios  United States of America   \n",
       "1        Pixar Animation Studios  United States of America   \n",
       "2        Pixar Animation Studios  United States of America   \n",
       "3               TriStar Pictures  United States of America   \n",
       "4               TriStar Pictures  United States of America   \n",
       "...                          ...                       ...   \n",
       "414481   American World Pictures  United States of America   \n",
       "414482   American World Pictures  United States of America   \n",
       "414483   American World Pictures  United States of America   \n",
       "414484                 Yermoliev                    Russia   \n",
       "414485                      None            United Kingdom   \n",
       "\n",
       "       spoken_languages_name  \n",
       "0                    English  \n",
       "1                    English  \n",
       "2                    English  \n",
       "3                    English  \n",
       "4                   Français  \n",
       "...                      ...  \n",
       "414481               English  \n",
       "414482               English  \n",
       "414483               English  \n",
       "414484                  None  \n",
       "414485               English  \n",
       "\n",
       "[414486 rows x 16 columns]"
      ]
     },
     "execution_count": 3,
     "metadata": {},
     "output_type": "execute_result"
    }
   ],
   "source": [
    "df_movies"
   ]
  },
  {
   "cell_type": "markdown",
   "metadata": {},
   "source": [
    "Filtrar los datos:"
   ]
  },
  {
   "cell_type": "markdown",
   "metadata": {},
   "source": [
    "Filtra las películas por año de lanzamiento, idioma y país de producción."
   ]
  },
  {
   "cell_type": "code",
   "execution_count": 4,
   "metadata": {},
   "outputs": [],
   "source": [
    "# Filtrar por año, idiomas y países principales\n",
    "df_movies = df_movies[df_movies['release_year'] >= 1985]\n",
    "\n",
    "principales_idiomas = ['English', 'Français', 'Deutsch', 'Español', 'Italiano']\n",
    "df_movies = df_movies[df_movies['spoken_languages_name'].isin(principales_idiomas)]\n",
    "\n",
    "paises_principales = ['United States of America', 'United Kingdom', 'France', 'Canada', \n",
    "                      'Japan', 'Germany', 'Italy', 'Russia', 'India', 'Spain', 'Argentina']\n",
    "df_movies = df_movies[df_movies['production_countries_name'].isin(paises_principales)]\n"
   ]
  },
  {
   "cell_type": "markdown",
   "metadata": {},
   "source": [
    "Unir DataFrames:"
   ]
  },
  {
   "cell_type": "markdown",
   "metadata": {},
   "source": [
    "Se combina los DataFrames de películas, géneros, directores y actores."
   ]
  },
  {
   "cell_type": "code",
   "execution_count": 5,
   "metadata": {},
   "outputs": [],
   "source": [
    "# Transformar las columnas en listas\n",
    "genero = (df_movies[['id', 'genres_name']]\n",
    "          .drop_duplicates()\n",
    "          .groupby('id')['genres_name']\n",
    "          .apply(list)\n",
    "          .reset_index(name='generos'))\n",
    "\n",
    "directores = (df_credit_crew[['id', 'crew_name']]\n",
    "              .drop_duplicates()\n",
    "              .groupby('id')['crew_name']\n",
    "              .apply(list)\n",
    "              .reset_index(name='directores'))\n",
    "\n",
    "actores = (df_credit_cast[['id', 'cast_name']]\n",
    "           .drop_duplicates()\n",
    "           .groupby('id')['cast_name']\n",
    "           .apply(list)\n",
    "           .reset_index(name='actores'))\n",
    "\n",
    "# Combinar los DataFrames en uno solo\n",
    "col_movies = df_movies[['id', 'title', 'overview']]\n",
    "df_tags = pd.merge(col_movies, genero, on='id', how='inner')\n",
    "df_tags = pd.merge(df_tags, directores, on='id', how='inner')\n",
    "df_tags = pd.merge(df_tags, actores, on='id', how='inner')\n"
   ]
  },
  {
   "cell_type": "markdown",
   "metadata": {},
   "source": [
    "Transformaciones:"
   ]
  },
  {
   "cell_type": "markdown",
   "metadata": {},
   "source": [
    "Transforma y limpia los datos para prepararlos para la vectorización."
   ]
  },
  {
   "cell_type": "code",
   "execution_count": 6,
   "metadata": {},
   "outputs": [],
   "source": [
    "genero = (df_movies[['id', 'genres_name']]\n",
    "                               .drop_duplicates()\n",
    "                               .groupby('id')['genres_name']\n",
    "                               .apply(list)\n",
    "                               .reset_index(name='generos'))"
   ]
  },
  {
   "cell_type": "code",
   "execution_count": 7,
   "metadata": {},
   "outputs": [],
   "source": [
    "directores = (df_credit_crew[['id', 'crew_name']]\n",
    "                               .drop_duplicates()\n",
    "                               .groupby('id')['crew_name']\n",
    "                               .apply(list)\n",
    "                               .reset_index(name='directores'))"
   ]
  },
  {
   "cell_type": "code",
   "execution_count": 8,
   "metadata": {},
   "outputs": [],
   "source": [
    "actores = (df_credit_cast[['id', 'cast_name']]\n",
    "                               .drop_duplicates()\n",
    "                               .groupby('id')['cast_name']\n",
    "                               .apply(list)\n",
    "                               .reset_index(name='actores'))"
   ]
  },
  {
   "cell_type": "code",
   "execution_count": 9,
   "metadata": {},
   "outputs": [],
   "source": [
    "col_movies = df_movies[['id', 'title','overview']]\n",
    "col_genero = genero[['id', 'generos']]\n",
    "col_directores = directores[['id', 'directores']]\n",
    "col_actores = actores[['id', 'actores']]\n",
    "\n",
    "# Realizar merge secuencial para combinar los DataFrames\n",
    "df_tags = pd.merge(col_movies, col_genero, on='id', how='inner')\n",
    "df_tags = pd.merge(df_tags, col_directores, on='id', how='inner')\n",
    "df_tags = pd.merge(df_tags, col_actores, on='id', how='inner')"
   ]
  },
  {
   "cell_type": "code",
   "execution_count": 10,
   "metadata": {},
   "outputs": [
    {
     "data": {
      "text/html": [
       "<div>\n",
       "<style scoped>\n",
       "    .dataframe tbody tr th:only-of-type {\n",
       "        vertical-align: middle;\n",
       "    }\n",
       "\n",
       "    .dataframe tbody tr th {\n",
       "        vertical-align: top;\n",
       "    }\n",
       "\n",
       "    .dataframe thead th {\n",
       "        text-align: right;\n",
       "    }\n",
       "</style>\n",
       "<table border=\"1\" class=\"dataframe\">\n",
       "  <thead>\n",
       "    <tr style=\"text-align: right;\">\n",
       "      <th></th>\n",
       "      <th>id</th>\n",
       "      <th>title</th>\n",
       "      <th>overview</th>\n",
       "      <th>generos</th>\n",
       "      <th>directores</th>\n",
       "      <th>actores</th>\n",
       "    </tr>\n",
       "  </thead>\n",
       "  <tbody>\n",
       "    <tr>\n",
       "      <th>0</th>\n",
       "      <td>862</td>\n",
       "      <td>Toy Story</td>\n",
       "      <td>Led by Woody, Andy's toys live happily in his ...</td>\n",
       "      <td>[Animation, Comedy, Family]</td>\n",
       "      <td>[John Lasseter]</td>\n",
       "      <td>[Tom Hanks, Tim Allen, Don Rickles, Jim Varney...</td>\n",
       "    </tr>\n",
       "    <tr>\n",
       "      <th>1</th>\n",
       "      <td>862</td>\n",
       "      <td>Toy Story</td>\n",
       "      <td>Led by Woody, Andy's toys live happily in his ...</td>\n",
       "      <td>[Animation, Comedy, Family]</td>\n",
       "      <td>[John Lasseter]</td>\n",
       "      <td>[Tom Hanks, Tim Allen, Don Rickles, Jim Varney...</td>\n",
       "    </tr>\n",
       "    <tr>\n",
       "      <th>2</th>\n",
       "      <td>862</td>\n",
       "      <td>Toy Story</td>\n",
       "      <td>Led by Woody, Andy's toys live happily in his ...</td>\n",
       "      <td>[Animation, Comedy, Family]</td>\n",
       "      <td>[John Lasseter]</td>\n",
       "      <td>[Tom Hanks, Tim Allen, Don Rickles, Jim Varney...</td>\n",
       "    </tr>\n",
       "    <tr>\n",
       "      <th>3</th>\n",
       "      <td>8844</td>\n",
       "      <td>Jumanji</td>\n",
       "      <td>When siblings Judy and Peter discover an encha...</td>\n",
       "      <td>[Adventure, Fantasy, Family]</td>\n",
       "      <td>[Joe Johnston]</td>\n",
       "      <td>[Robin Williams, Jonathan Hyde, Kirsten Dunst,...</td>\n",
       "    </tr>\n",
       "    <tr>\n",
       "      <th>4</th>\n",
       "      <td>8844</td>\n",
       "      <td>Jumanji</td>\n",
       "      <td>When siblings Judy and Peter discover an encha...</td>\n",
       "      <td>[Adventure, Fantasy, Family]</td>\n",
       "      <td>[Joe Johnston]</td>\n",
       "      <td>[Robin Williams, Jonathan Hyde, Kirsten Dunst,...</td>\n",
       "    </tr>\n",
       "    <tr>\n",
       "      <th>...</th>\n",
       "      <td>...</td>\n",
       "      <td>...</td>\n",
       "      <td>...</td>\n",
       "      <td>...</td>\n",
       "      <td>...</td>\n",
       "      <td>...</td>\n",
       "    </tr>\n",
       "    <tr>\n",
       "      <th>184083</th>\n",
       "      <td>30840</td>\n",
       "      <td>Robin Hood</td>\n",
       "      <td>Yet another version of the classic epic, with ...</td>\n",
       "      <td>[Drama, Action, Romance]</td>\n",
       "      <td>[John Irvin]</td>\n",
       "      <td>[Patrick Bergin, Uma Thurman, David Morrissey,...</td>\n",
       "    </tr>\n",
       "    <tr>\n",
       "      <th>184084</th>\n",
       "      <td>30840</td>\n",
       "      <td>Robin Hood</td>\n",
       "      <td>Yet another version of the classic epic, with ...</td>\n",
       "      <td>[Drama, Action, Romance]</td>\n",
       "      <td>[John Irvin]</td>\n",
       "      <td>[Patrick Bergin, Uma Thurman, David Morrissey,...</td>\n",
       "    </tr>\n",
       "    <tr>\n",
       "      <th>184085</th>\n",
       "      <td>67758</td>\n",
       "      <td>Betrayal</td>\n",
       "      <td>When one of her hits goes wrong, a professiona...</td>\n",
       "      <td>[Action, Drama, Thriller]</td>\n",
       "      <td>[Mark L. Lester]</td>\n",
       "      <td>[Erika Eleniak, Adam Baldwin, Julie du Page, J...</td>\n",
       "    </tr>\n",
       "    <tr>\n",
       "      <th>184086</th>\n",
       "      <td>67758</td>\n",
       "      <td>Betrayal</td>\n",
       "      <td>When one of her hits goes wrong, a professiona...</td>\n",
       "      <td>[Action, Drama, Thriller]</td>\n",
       "      <td>[Mark L. Lester]</td>\n",
       "      <td>[Erika Eleniak, Adam Baldwin, Julie du Page, J...</td>\n",
       "    </tr>\n",
       "    <tr>\n",
       "      <th>184087</th>\n",
       "      <td>67758</td>\n",
       "      <td>Betrayal</td>\n",
       "      <td>When one of her hits goes wrong, a professiona...</td>\n",
       "      <td>[Action, Drama, Thriller]</td>\n",
       "      <td>[Mark L. Lester]</td>\n",
       "      <td>[Erika Eleniak, Adam Baldwin, Julie du Page, J...</td>\n",
       "    </tr>\n",
       "  </tbody>\n",
       "</table>\n",
       "<p>184088 rows × 6 columns</p>\n",
       "</div>"
      ],
      "text/plain": [
       "           id       title                                           overview  \\\n",
       "0         862   Toy Story  Led by Woody, Andy's toys live happily in his ...   \n",
       "1         862   Toy Story  Led by Woody, Andy's toys live happily in his ...   \n",
       "2         862   Toy Story  Led by Woody, Andy's toys live happily in his ...   \n",
       "3        8844     Jumanji  When siblings Judy and Peter discover an encha...   \n",
       "4        8844     Jumanji  When siblings Judy and Peter discover an encha...   \n",
       "...       ...         ...                                                ...   \n",
       "184083  30840  Robin Hood  Yet another version of the classic epic, with ...   \n",
       "184084  30840  Robin Hood  Yet another version of the classic epic, with ...   \n",
       "184085  67758    Betrayal  When one of her hits goes wrong, a professiona...   \n",
       "184086  67758    Betrayal  When one of her hits goes wrong, a professiona...   \n",
       "184087  67758    Betrayal  When one of her hits goes wrong, a professiona...   \n",
       "\n",
       "                             generos        directores  \\\n",
       "0        [Animation, Comedy, Family]   [John Lasseter]   \n",
       "1        [Animation, Comedy, Family]   [John Lasseter]   \n",
       "2        [Animation, Comedy, Family]   [John Lasseter]   \n",
       "3       [Adventure, Fantasy, Family]    [Joe Johnston]   \n",
       "4       [Adventure, Fantasy, Family]    [Joe Johnston]   \n",
       "...                              ...               ...   \n",
       "184083      [Drama, Action, Romance]      [John Irvin]   \n",
       "184084      [Drama, Action, Romance]      [John Irvin]   \n",
       "184085     [Action, Drama, Thriller]  [Mark L. Lester]   \n",
       "184086     [Action, Drama, Thriller]  [Mark L. Lester]   \n",
       "184087     [Action, Drama, Thriller]  [Mark L. Lester]   \n",
       "\n",
       "                                                  actores  \n",
       "0       [Tom Hanks, Tim Allen, Don Rickles, Jim Varney...  \n",
       "1       [Tom Hanks, Tim Allen, Don Rickles, Jim Varney...  \n",
       "2       [Tom Hanks, Tim Allen, Don Rickles, Jim Varney...  \n",
       "3       [Robin Williams, Jonathan Hyde, Kirsten Dunst,...  \n",
       "4       [Robin Williams, Jonathan Hyde, Kirsten Dunst,...  \n",
       "...                                                   ...  \n",
       "184083  [Patrick Bergin, Uma Thurman, David Morrissey,...  \n",
       "184084  [Patrick Bergin, Uma Thurman, David Morrissey,...  \n",
       "184085  [Erika Eleniak, Adam Baldwin, Julie du Page, J...  \n",
       "184086  [Erika Eleniak, Adam Baldwin, Julie du Page, J...  \n",
       "184087  [Erika Eleniak, Adam Baldwin, Julie du Page, J...  \n",
       "\n",
       "[184088 rows x 6 columns]"
      ]
     },
     "execution_count": 10,
     "metadata": {},
     "output_type": "execute_result"
    }
   ],
   "source": [
    "df_tags"
   ]
  },
  {
   "cell_type": "code",
   "execution_count": 11,
   "metadata": {},
   "outputs": [
    {
     "name": "stdout",
     "output_type": "stream",
     "text": [
      "<class 'pandas.core.frame.DataFrame'>\n",
      "RangeIndex: 184088 entries, 0 to 184087\n",
      "Data columns (total 6 columns):\n",
      " #   Column      Non-Null Count   Dtype \n",
      "---  ------      --------------   ----- \n",
      " 0   id          184088 non-null  int64 \n",
      " 1   title       184088 non-null  object\n",
      " 2   overview    184088 non-null  object\n",
      " 3   generos     184088 non-null  object\n",
      " 4   directores  184088 non-null  object\n",
      " 5   actores     184088 non-null  object\n",
      "dtypes: int64(1), object(5)\n",
      "memory usage: 8.4+ MB\n"
     ]
    }
   ],
   "source": [
    "df_tags.info()"
   ]
  },
  {
   "cell_type": "markdown",
   "metadata": {},
   "source": [
    " Se transforma y limpia la información para consolidarla en una columna llamada tags, que luego será vectorizada para calcular la similitud de coseno."
   ]
  },
  {
   "cell_type": "code",
   "execution_count": 12,
   "metadata": {},
   "outputs": [
    {
     "name": "stdout",
     "output_type": "stream",
     "text": [
      "0    [Led, by, Woody,, Andy's, toys, live, happily,...\n",
      "1    [Led, by, Woody,, Andy's, toys, live, happily,...\n",
      "2    [Led, by, Woody,, Andy's, toys, live, happily,...\n",
      "3    [When, siblings, Judy, and, Peter, discover, a...\n",
      "4    [When, siblings, Judy, and, Peter, discover, a...\n",
      "Name: overview, dtype: object\n"
     ]
    }
   ],
   "source": [
    "# Eliminar filas vacías en la columna 'overview'\n",
    "df_tags.dropna(subset=['overview'], inplace=True)\n",
    "# Asegurarse de que todos los valores en 'overview' sean cadenas antes de aplicar '.split()'\n",
    "df_tags['overview'] = df_tags['overview'].apply(lambda x: \" \".join(x) if isinstance(x, list) else x)\n",
    "# Aplicar separación solo a las cadenas de texto\n",
    "df_tags['overview'] = df_tags['overview'].apply(lambda x: x.split() if isinstance(x, str) else x)\n",
    "# Verificar el resultado\n",
    "print(df_tags['overview'].head())\n"
   ]
  },
  {
   "cell_type": "code",
   "execution_count": 13,
   "metadata": {},
   "outputs": [
    {
     "name": "stdout",
     "output_type": "stream",
     "text": [
      "                        generos      directores  \\\n",
      "0   [Animation, Comedy, Family]  [JohnLasseter]   \n",
      "1   [Animation, Comedy, Family]  [JohnLasseter]   \n",
      "2   [Animation, Comedy, Family]  [JohnLasseter]   \n",
      "3  [Adventure, Fantasy, Family]   [JoeJohnston]   \n",
      "4  [Adventure, Fantasy, Family]   [JoeJohnston]   \n",
      "\n",
      "                                             actores  \n",
      "0  [TomHanks, TimAllen, DonRickles, JimVarney, Wa...  \n",
      "1  [TomHanks, TimAllen, DonRickles, JimVarney, Wa...  \n",
      "2  [TomHanks, TimAllen, DonRickles, JimVarney, Wa...  \n",
      "3  [RobinWilliams, JonathanHyde, KirstenDunst, Br...  \n",
      "4  [RobinWilliams, JonathanHyde, KirstenDunst, Br...  \n"
     ]
    }
   ],
   "source": [
    "# Definir la función para eliminar los espacios\n",
    "def eliminar_espacios(cadena):\n",
    "    if isinstance(cadena, list):\n",
    "        return [i.replace(\" \", \"\") for i in cadena if isinstance(i, str)]\n",
    "    else:\n",
    "        return []  # Devuelve una lista vacía si el valor es None o no es una lista\n",
    "\n",
    "# Reemplazar valores None por listas vacías antes de aplicar la función\n",
    "df_tags['generos'] = df_tags['generos'].apply(lambda x: x if isinstance(x, list) else [])\n",
    "df_tags['directores'] = df_tags['directores'].apply(lambda x: x if isinstance(x, list) else [])\n",
    "df_tags['actores'] = df_tags['actores'].apply(lambda x: x if isinstance(x, list) else [])\n",
    "\n",
    "# Aplicar la función eliminar_espacios a las columnas correspondientes\n",
    "df_tags['generos'] = df_tags['generos'].apply(eliminar_espacios)\n",
    "df_tags['directores'] = df_tags['directores'].apply(eliminar_espacios)\n",
    "df_tags['actores'] = df_tags['actores'].apply(eliminar_espacios)\n",
    "\n",
    "# Verificar el resultado\n",
    "print(df_tags[['generos', 'directores', 'actores']].head())\n"
   ]
  },
  {
   "cell_type": "code",
   "execution_count": 14,
   "metadata": {},
   "outputs": [],
   "source": [
    "df_tags['etiquetas'] = df_tags['overview'] + df_tags['generos'] + df_tags['directores'] + df_tags['actores']"
   ]
  },
  {
   "cell_type": "code",
   "execution_count": 15,
   "metadata": {},
   "outputs": [],
   "source": [
    "#Eliminamos las columnas que ya no nos sirven.\n",
    "df_tags = df_tags.drop(columns = ['overview', 'generos', 'directores', 'actores','id'])"
   ]
  },
  {
   "cell_type": "code",
   "execution_count": 16,
   "metadata": {},
   "outputs": [],
   "source": [
    "#la línea de código convierte cada lista de strings en la columna 'etiquetas' del DataFrame df_tags en una cadena única de texto, donde cada elemento está separado por espacios, \n",
    "# utilizando una función lambda con apply().\n",
    "df_tags['etiquetas'] = df_tags ['etiquetas'].apply(lambda x: \" \".join(x))"
   ]
  },
  {
   "cell_type": "code",
   "execution_count": 17,
   "metadata": {},
   "outputs": [],
   "source": [
    "df_tags = df_tags.drop_duplicates()"
   ]
  },
  {
   "cell_type": "code",
   "execution_count": 18,
   "metadata": {},
   "outputs": [
    {
     "data": {
      "text/html": [
       "<div>\n",
       "<style scoped>\n",
       "    .dataframe tbody tr th:only-of-type {\n",
       "        vertical-align: middle;\n",
       "    }\n",
       "\n",
       "    .dataframe tbody tr th {\n",
       "        vertical-align: top;\n",
       "    }\n",
       "\n",
       "    .dataframe thead th {\n",
       "        text-align: right;\n",
       "    }\n",
       "</style>\n",
       "<table border=\"1\" class=\"dataframe\">\n",
       "  <thead>\n",
       "    <tr style=\"text-align: right;\">\n",
       "      <th></th>\n",
       "      <th>title</th>\n",
       "      <th>etiquetas</th>\n",
       "    </tr>\n",
       "  </thead>\n",
       "  <tbody>\n",
       "    <tr>\n",
       "      <th>0</th>\n",
       "      <td>Toy Story</td>\n",
       "      <td>Led by Woody, Andy's toys live happily in his ...</td>\n",
       "    </tr>\n",
       "    <tr>\n",
       "      <th>3</th>\n",
       "      <td>Jumanji</td>\n",
       "      <td>When siblings Judy and Peter discover an encha...</td>\n",
       "    </tr>\n",
       "    <tr>\n",
       "      <th>21</th>\n",
       "      <td>Grumpier Old Men</td>\n",
       "      <td>A family wedding reignites the ancient feud be...</td>\n",
       "    </tr>\n",
       "    <tr>\n",
       "      <th>25</th>\n",
       "      <td>Waiting to Exhale</td>\n",
       "      <td>Cheated on, mistreated and stepped on, the wom...</td>\n",
       "    </tr>\n",
       "    <tr>\n",
       "      <th>28</th>\n",
       "      <td>Father of the Bride Part II</td>\n",
       "      <td>Just when George Banks has recovered from his ...</td>\n",
       "    </tr>\n",
       "    <tr>\n",
       "      <th>...</th>\n",
       "      <td>...</td>\n",
       "      <td>...</td>\n",
       "    </tr>\n",
       "    <tr>\n",
       "      <th>184030</th>\n",
       "      <td>The Morning After</td>\n",
       "      <td>The Morning After is a feature film that consi...</td>\n",
       "    </tr>\n",
       "    <tr>\n",
       "      <th>184034</th>\n",
       "      <td>The Burkittsville 7</td>\n",
       "      <td>A film archivist revisits the story of Rustin ...</td>\n",
       "    </tr>\n",
       "    <tr>\n",
       "      <th>184036</th>\n",
       "      <td>Caged Heat 3000</td>\n",
       "      <td>It's the year 3000 AD. The world's most danger...</td>\n",
       "    </tr>\n",
       "    <tr>\n",
       "      <th>184037</th>\n",
       "      <td>Robin Hood</td>\n",
       "      <td>Yet another version of the classic epic, with ...</td>\n",
       "    </tr>\n",
       "    <tr>\n",
       "      <th>184085</th>\n",
       "      <td>Betrayal</td>\n",
       "      <td>When one of her hits goes wrong, a professiona...</td>\n",
       "    </tr>\n",
       "  </tbody>\n",
       "</table>\n",
       "<p>19030 rows × 2 columns</p>\n",
       "</div>"
      ],
      "text/plain": [
       "                              title  \\\n",
       "0                         Toy Story   \n",
       "3                           Jumanji   \n",
       "21                 Grumpier Old Men   \n",
       "25                Waiting to Exhale   \n",
       "28      Father of the Bride Part II   \n",
       "...                             ...   \n",
       "184030            The Morning After   \n",
       "184034          The Burkittsville 7   \n",
       "184036              Caged Heat 3000   \n",
       "184037                   Robin Hood   \n",
       "184085                     Betrayal   \n",
       "\n",
       "                                                etiquetas  \n",
       "0       Led by Woody, Andy's toys live happily in his ...  \n",
       "3       When siblings Judy and Peter discover an encha...  \n",
       "21      A family wedding reignites the ancient feud be...  \n",
       "25      Cheated on, mistreated and stepped on, the wom...  \n",
       "28      Just when George Banks has recovered from his ...  \n",
       "...                                                   ...  \n",
       "184030  The Morning After is a feature film that consi...  \n",
       "184034  A film archivist revisits the story of Rustin ...  \n",
       "184036  It's the year 3000 AD. The world's most danger...  \n",
       "184037  Yet another version of the classic epic, with ...  \n",
       "184085  When one of her hits goes wrong, a professiona...  \n",
       "\n",
       "[19030 rows x 2 columns]"
      ]
     },
     "execution_count": 18,
     "metadata": {},
     "output_type": "execute_result"
    }
   ],
   "source": [
    "df_tags"
   ]
  },
  {
   "cell_type": "code",
   "execution_count": 19,
   "metadata": {},
   "outputs": [
    {
     "name": "stderr",
     "output_type": "stream",
     "text": [
      "[nltk_data] Downloading package stopwords to\n",
      "[nltk_data]     C:\\Users\\claud\\AppData\\Roaming\\nltk_data...\n",
      "[nltk_data]   Package stopwords is already up-to-date!\n"
     ]
    }
   ],
   "source": [
    "nltk.download('stopwords')\n",
    "stop_words = set(stopwords.words('english'))"
   ]
  },
  {
   "cell_type": "markdown",
   "metadata": {},
   "source": [
    "Modelo de Recomendacion"
   ]
  },
  {
   "cell_type": "code",
   "execution_count": 20,
   "metadata": {},
   "outputs": [],
   "source": [
    "df_tags.reset_index(drop=True, inplace=True)"
   ]
  },
  {
   "cell_type": "code",
   "execution_count": 21,
   "metadata": {},
   "outputs": [],
   "source": [
    "cv = CountVectorizer(max_features = 10000 , stop_words= 'english')"
   ]
  },
  {
   "cell_type": "code",
   "execution_count": 22,
   "metadata": {},
   "outputs": [],
   "source": [
    "vector = cv.fit_transform(df_tags['etiquetas']).toarray()"
   ]
  },
  {
   "cell_type": "code",
   "execution_count": 23,
   "metadata": {},
   "outputs": [
    {
     "data": {
      "text/plain": [
       "(19030, 10000)"
      ]
     },
     "execution_count": 23,
     "metadata": {},
     "output_type": "execute_result"
    }
   ],
   "source": [
    "vector.shape"
   ]
  },
  {
   "cell_type": "code",
   "execution_count": 24,
   "metadata": {},
   "outputs": [
    {
     "data": {
      "text/plain": [
       "array([[1.        , 0.04170288, 0.04914732, ..., 0.        , 0.        ,\n",
       "        0.        ],\n",
       "       [0.04170288, 1.        , 0.07071068, ..., 0.03885143, 0.        ,\n",
       "        0.        ],\n",
       "       [0.04914732, 0.07071068, 1.        , ..., 0.        , 0.03042903,\n",
       "        0.        ],\n",
       "       ...,\n",
       "       [0.        , 0.03885143, 0.        , ..., 1.        , 0.02507849,\n",
       "        0.06142951],\n",
       "       [0.        , 0.        , 0.03042903, ..., 0.02507849, 1.        ,\n",
       "        0.08164966],\n",
       "       [0.        , 0.        , 0.        , ..., 0.06142951, 0.08164966,\n",
       "        1.        ]])"
      ]
     },
     "execution_count": 24,
     "metadata": {},
     "output_type": "execute_result"
    }
   ],
   "source": [
    "similitud_coseno = cosine_similarity(vector)\n",
    "\n",
    "similitud_coseno"
   ]
  },
  {
   "cell_type": "code",
   "execution_count": 25,
   "metadata": {},
   "outputs": [],
   "source": [
    "def recomendacion(titulo):\n",
    "    try:\n",
    "        indice = df_tags[df_tags['title'] == titulo].index[0]\n",
    "    \n",
    "        distancia = sorted(list(enumerate(similitud_coseno[indice])), reverse = True, key = lambda x: x[1])\n",
    "\n",
    "        recomendadas = [df_tags.iloc[i[0]].title for i in distancia[1:6]]\n",
    "        \n",
    "        print(f\"Porque viste '{titulo}', tal vez te guste:\")\n",
    "        for pelicula in recomendadas:\n",
    "            print(pelicula)\n",
    "    except IndexError:\n",
    "        print(f\"No se encontró la película '{titulo}' en la base de datos.\")"
   ]
  },
  {
   "cell_type": "code",
   "execution_count": 26,
   "metadata": {},
   "outputs": [
    {
     "name": "stdout",
     "output_type": "stream",
     "text": [
      "Index(['title', 'etiquetas'], dtype='object')\n"
     ]
    }
   ],
   "source": [
    "# Mostrar los nombres de las columnas en el DataFrame\n",
    "print(df_tags.columns)\n"
   ]
  },
  {
   "cell_type": "code",
   "execution_count": 29,
   "metadata": {},
   "outputs": [
    {
     "name": "stdout",
     "output_type": "stream",
     "text": [
      "Porque viste 'Toy Story', tal vez te guste:\n",
      "Toy Story 2\n",
      "Toy Story 3\n",
      "The 40 Year Old Virgin\n",
      "Andy Peters: Exclamation Mark Question Point\n",
      "Hawaiian Vacation\n"
     ]
    }
   ],
   "source": [
    "recomendacion(\"Toy Story\")"
   ]
  },
  {
   "cell_type": "code",
   "execution_count": 30,
   "metadata": {},
   "outputs": [],
   "source": [
    "#Descargamos la base de datos que utilizamos para crear la función de recomendación. \n",
    "df_tags.to_parquet('tags_ML.parquet', index=False)"
   ]
  }
 ],
 "metadata": {
  "kernelspec": {
   "display_name": "Python 3",
   "language": "python",
   "name": "python3"
  },
  "language_info": {
   "codemirror_mode": {
    "name": "ipython",
    "version": 3
   },
   "file_extension": ".py",
   "mimetype": "text/x-python",
   "name": "python",
   "nbconvert_exporter": "python",
   "pygments_lexer": "ipython3",
   "version": "3.12.5"
  }
 },
 "nbformat": 4,
 "nbformat_minor": 2
}
